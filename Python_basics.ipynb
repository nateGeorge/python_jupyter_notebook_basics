{
 "cells": [
  {
   "cell_type": "markdown",
   "metadata": {},
   "source": [
    "This notebook will introduce you to some of the basics in the Python language, and Jupyter notebooks.\n",
    "\n",
    "This first cell is called [markdown](https://github.com/adam-p/markdown-here/wiki/Markdown-Cheatsheet), which means you can format it to have different styles, etc.  Try clicking inside this cell to see what the raw markdown looks like.  Then press **ctrl + enter** (maybe **cmd + enter** on Mac) to execute the cell in-place.  Then press enter again to 'enter' the cell.  Next try pressing **shift + enter** to execute the cell, which also moves us on to the next one."
   ]
  },
  {
   "cell_type": "code",
   "execution_count": 5,
   "metadata": {},
   "outputs": [
    {
     "name": "stdout",
     "output_type": "stream",
     "text": [
      "testing the jupyter notebook\n"
     ]
    }
   ],
   "source": [
    "# This is a normal code cell.  When we run this cell, it will output the result of our last line of code\n",
    "# to the screen just below the cell.  Select this cell (click in it) and press shift + enter to execute it.\n",
    "print('testing the jupyter notebook')"
   ]
  },
  {
   "cell_type": "markdown",
   "metadata": {},
   "source": [
    "# Navigation with the keyboard\n",
    "There are lots of shortcuts in Jupyter notebooks to speed up your workflow.  You should now have this cell selected, meaning it should be surrounded by an outline.  Press the up and down arrow keys to navigate to the cells above and below this one.  Now navigate to this cell again, so it is outlined.  Press the y key, and then the m key.  The 'y' key will change the cell to a code cell, and 'm' will change it back to a markdown cell.  This is a quick way to convert cells.  \n",
    "\n",
    "Now press 'enter' to enter the cell.  The cursor should be in the cell, and you can navigate around.  Press the up arrow key until you are in the cell above.  You can navigate line-by-line between cells like that.  Finally, press 'esc' to exit the cell.  Now press ctrl + enter (cmd + enter on Mac maybe) to execute the cell in-place, or shift+enter to move on to the next cell after executing this one."
   ]
  },
  {
   "cell_type": "markdown",
   "metadata": {},
   "source": [
    "# Other keyboard shortcuts\n",
    "\n",
    "Try pressing 'a' and 'b' now.  a will insert a cell above the currently selected cell, and b will insert one below.  Now select on of the empty cells by moving to it with the arrow keys (make sure you are not 'in' the cell, i.e. press esc if the cursor is visible), and press d twice.  This will delete the cell.\n",
    "\n",
    "There are a lot of keyboard shortcuts.  If you are not within a cell, you can press 'h' to see the list of shortcuts.  You can also go to Help -> Keyboard Shortcuts in the menu at the top.  There are a lot of keyboard shortcuts, but the introduction just now was the essentials.  Feel free to check out the list of keyboard shortcuts and use more that you like."
   ]
  },
  {
   "cell_type": "markdown",
   "metadata": {},
   "source": [
    "# Basic variable types"
   ]
  },
  {
   "cell_type": "markdown",
   "metadata": {},
   "source": [
    "In programming, we have variables.  These are keywords which store a value.  In Python, here are the simple possible variable types:\n",
    "\n",
    "- string (e.g. `'abc'` or `'a string'`)\n",
    "- integer (e.g `1` or `10`)\n",
    "- float (e.g `1.0` or `0.88`)\n",
    "- boolean (e.g. `True` or `False`)\n",
    "\n",
    "You can check the type of a variable with the `type()` function:"
   ]
  },
  {
   "cell_type": "code",
   "execution_count": 2,
   "metadata": {},
   "outputs": [
    {
     "data": {
      "text/plain": [
       "str"
      ]
     },
     "execution_count": 2,
     "metadata": {},
     "output_type": "execute_result"
    }
   ],
   "source": [
    "type('abc')"
   ]
  },
  {
   "cell_type": "markdown",
   "metadata": {},
   "source": [
    "'str' is short for string.  A string is a collection of characters, and is enclosed in single- or double-quotes.  There are a ton of things we can do with strings, like concatenation (`'a' + 'b'` would result in `'ab'`), regex to find words/phrases in the string, selecting parts of strings, etc.\n",
    "\n",
    "Integers are whole nunmbers.\n",
    "\n",
    "Floats are numbers with a decimal point.\n",
    "\n",
    "Booleans are binary -- 1s and 0s, or `Trues` and `False`s."
   ]
  },
  {
   "cell_type": "markdown",
   "metadata": {},
   "source": [
    "## More complex variable types\n",
    "\n",
    "Now we will look at some basic Python data structures, which are more complex variable types.  The foundation for Python data structures is the list.\n",
    "\n",
    "This is a datatype that is enclosed in brackets, like so:"
   ]
  },
  {
   "cell_type": "code",
   "execution_count": 11,
   "metadata": {},
   "outputs": [
    {
     "name": "stdout",
     "output_type": "stream",
     "text": [
      "[1, 2, 3, 4]\n",
      "1\n",
      "2\n",
      "3\n",
      "4\n"
     ]
    }
   ],
   "source": [
    "test_list = [1, 2, 3, 4]\n",
    "print(test_list)\n",
    "\n",
    "# We can iterate through lists like this:\n",
    "for item in test_list:\n",
    "    print(item)"
   ]
  },
  {
   "cell_type": "markdown",
   "metadata": {},
   "source": [
    "Lists have several [built-in methods](https://docs.python.org/3/tutorial/datastructures.html), but here we will only use the .append() method, which adds to the end of the list.  We can start with a blank list, and keep adding to it:"
   ]
  },
  {
   "cell_type": "code",
   "execution_count": 5,
   "metadata": {},
   "outputs": [
    {
     "data": {
      "text/plain": [
       "[0, 1, 2, 3, 4, 5, 6, 7, 8, 9]"
      ]
     },
     "execution_count": 5,
     "metadata": {},
     "output_type": "execute_result"
    }
   ],
   "source": [
    "another_list = []\n",
    "for i in range(10):\n",
    "    another_list.append(i)\n",
    "\n",
    "\n",
    "# putting the variable at the end of the cell prints out that variable\n",
    "another_list"
   ]
  },
  {
   "cell_type": "markdown",
   "metadata": {},
   "source": [
    "If you're unsure of what type of variable something is, remember that you can check with type():"
   ]
  },
  {
   "cell_type": "code",
   "execution_count": 6,
   "metadata": {},
   "outputs": [
    {
     "data": {
      "text/plain": [
       "list"
      ]
     },
     "execution_count": 6,
     "metadata": {},
     "output_type": "execute_result"
    }
   ],
   "source": [
    "type(another_list)"
   ]
  },
  {
   "cell_type": "markdown",
   "metadata": {},
   "source": [
    "We access entries in lists with indexing.  This works like:\n",
    "\n",
    "`our_list[start:stop:step]`\n",
    "\n",
    "where 'start' is the position in the list where we start, 'stop' is where we end, and 'step' is the number of entries we skip at a time.\n",
    "\n",
    "Python indexing start at 0 (R starts at 1), so to get the first element of a list, we do:"
   ]
  },
  {
   "cell_type": "code",
   "execution_count": 7,
   "metadata": {},
   "outputs": [
    {
     "data": {
      "text/plain": [
       "0"
      ]
     },
     "execution_count": 7,
     "metadata": {},
     "output_type": "execute_result"
    }
   ],
   "source": [
    "another_list[0]"
   ]
  },
  {
   "cell_type": "markdown",
   "metadata": {},
   "source": [
    "To get the first 2 elements, we do:"
   ]
  },
  {
   "cell_type": "code",
   "execution_count": 8,
   "metadata": {},
   "outputs": [
    {
     "data": {
      "text/plain": [
       "[0, 1]"
      ]
     },
     "execution_count": 8,
     "metadata": {},
     "output_type": "execute_result"
    }
   ],
   "source": [
    "another_list[:2]"
   ]
  },
  {
   "cell_type": "markdown",
   "metadata": {},
   "source": [
    "Notice that the 'stop' parameter in indexing is not inclusive -- we go up to that index, but don't include it.\n",
    "To get every other element in a list, we can do:"
   ]
  },
  {
   "cell_type": "code",
   "execution_count": 9,
   "metadata": {},
   "outputs": [
    {
     "data": {
      "text/plain": [
       "[0, 2, 4, 6, 8]"
      ]
     },
     "execution_count": 9,
     "metadata": {},
     "output_type": "execute_result"
    }
   ],
   "source": [
    "another_list[::2]"
   ]
  },
  {
   "cell_type": "markdown",
   "metadata": {},
   "source": [
    "And one last trick is to reverse a list, we can do:"
   ]
  },
  {
   "cell_type": "code",
   "execution_count": 10,
   "metadata": {},
   "outputs": [
    {
     "data": {
      "text/plain": [
       "[9, 8, 7, 6, 5, 4, 3, 2, 1, 0]"
      ]
     },
     "execution_count": 10,
     "metadata": {},
     "output_type": "execute_result"
    }
   ],
   "source": [
    "another_list[::-1]"
   ]
  },
  {
   "cell_type": "markdown",
   "metadata": {},
   "source": [
    "The other two useful data structures in Python we'll cover are dictionaries and sets.  Sets are collections of unique items:"
   ]
  },
  {
   "cell_type": "code",
   "execution_count": 12,
   "metadata": {},
   "outputs": [
    {
     "data": {
      "text/plain": [
       "{1, 2, 3}"
      ]
     },
     "execution_count": 12,
     "metadata": {},
     "output_type": "execute_result"
    }
   ],
   "source": [
    "set([1, 2, 3, 3])"
   ]
  },
  {
   "cell_type": "markdown",
   "metadata": {},
   "source": [
    "We can create sets from lists, for example.  An important property of sets is we can check if something is in them very efficiently (order-1 time for people who know about big-O notation; this is due to hashing):"
   ]
  },
  {
   "cell_type": "code",
   "execution_count": 13,
   "metadata": {},
   "outputs": [
    {
     "data": {
      "text/plain": [
       "True"
      ]
     },
     "execution_count": 13,
     "metadata": {},
     "output_type": "execute_result"
    }
   ],
   "source": [
    "1 in set([1, 2, 3])"
   ]
  },
  {
   "cell_type": "markdown",
   "metadata": {},
   "source": [
    "Checking if something is in a list is much slower, because we have to check each element of the list to see if it matches the criteria:"
   ]
  },
  {
   "cell_type": "code",
   "execution_count": 14,
   "metadata": {},
   "outputs": [
    {
     "data": {
      "text/plain": [
       "True"
      ]
     },
     "execution_count": 14,
     "metadata": {},
     "output_type": "execute_result"
    }
   ],
   "source": [
    "1 in [1, 2, 3]"
   ]
  },
  {
   "cell_type": "markdown",
   "metadata": {},
   "source": [
    "The last data structure we'll discuss is a dictionary, which stores key-value pairs:"
   ]
  },
  {
   "cell_type": "code",
   "execution_count": 15,
   "metadata": {},
   "outputs": [
    {
     "data": {
      "text/plain": [
       "{'key': 'value', 'key2': 3}"
      ]
     },
     "execution_count": 15,
     "metadata": {},
     "output_type": "execute_result"
    }
   ],
   "source": [
    "{'key': 'value', 'key2': 3}"
   ]
  },
  {
   "cell_type": "code",
   "execution_count": 16,
   "metadata": {},
   "outputs": [
    {
     "data": {
      "text/plain": [
       "'value'"
      ]
     },
     "execution_count": 16,
     "metadata": {},
     "output_type": "execute_result"
    }
   ],
   "source": [
    "d = {'key': 'value', 'key2': 3}\n",
    "d['key']"
   ]
  },
  {
   "cell_type": "code",
   "execution_count": 18,
   "metadata": {},
   "outputs": [
    {
     "data": {
      "text/plain": [
       "dict_values(['value', 3])"
      ]
     },
     "execution_count": 18,
     "metadata": {},
     "output_type": "execute_result"
    }
   ],
   "source": [
    "d.values()"
   ]
  },
  {
   "cell_type": "code",
   "execution_count": 19,
   "metadata": {},
   "outputs": [
    {
     "data": {
      "text/plain": [
       "dict_keys(['key', 'key2'])"
      ]
     },
     "execution_count": 19,
     "metadata": {},
     "output_type": "execute_result"
    }
   ],
   "source": [
    "d.keys()"
   ]
  },
  {
   "cell_type": "markdown",
   "metadata": {},
   "source": [
    "Like sets, we can check for something in the dict's keys in O1 time."
   ]
  },
  {
   "cell_type": "markdown",
   "metadata": {},
   "source": [
    "# List comprehensions\n",
    "There are some list comprehensions in the code below.  This is a Python trick which can condense your code.  For example:"
   ]
  },
  {
   "cell_type": "code",
   "execution_count": 1,
   "metadata": {},
   "outputs": [
    {
     "data": {
      "text/plain": [
       "[4, 16, 36]"
      ]
     },
     "execution_count": 1,
     "metadata": {},
     "output_type": "execute_result"
    }
   ],
   "source": [
    "# this is a for loop that makes a list of the numbers 2, 4, 6, squared (2^2, etc)\n",
    "list_of_numbers = []\n",
    "for i in [2, 4, 6]:\n",
    "    list_of_numbers.append(i ** 2)\n",
    "    \n",
    "# putting a variable at the end of a cell will print out the variable\n",
    "list_of_numbers"
   ]
  },
  {
   "cell_type": "code",
   "execution_count": 2,
   "metadata": {},
   "outputs": [
    {
     "data": {
      "text/plain": [
       "[4, 16, 36]"
      ]
     },
     "execution_count": 2,
     "metadata": {},
     "output_type": "execute_result"
    }
   ],
   "source": [
    "# we can do the same thing like this, which is called a list comprehension\n",
    "[i ** 2 for i in [2, 4, 6]]"
   ]
  },
  {
   "cell_type": "markdown",
   "metadata": {},
   "source": [
    "# Functions\n",
    "Functions in programming are essential.  Without them, we would have to repeat everything we do.  Functions encapsulate a block of code, and allow us to run it in one line.  Here is an example of a function that creates the same list as we did above:"
   ]
  },
  {
   "cell_type": "code",
   "execution_count": 13,
   "metadata": {},
   "outputs": [],
   "source": [
    "def make_list():\n",
    "    another_list = []\n",
    "    for i in range(10):\n",
    "        another_list.append(i)\n",
    "    \n",
    "    return another_list"
   ]
  },
  {
   "cell_type": "code",
   "execution_count": 14,
   "metadata": {},
   "outputs": [
    {
     "data": {
      "text/plain": [
       "[0, 1, 2, 3, 4, 5, 6, 7, 8, 9]"
      ]
     },
     "execution_count": 14,
     "metadata": {},
     "output_type": "execute_result"
    }
   ],
   "source": [
    "make_list()"
   ]
  },
  {
   "cell_type": "markdown",
   "metadata": {},
   "source": [
    "Functions start with 'def', then a space, then we write the function name, then the name is followed by parenthesis and a colon.  We put our code for the function starting on the next line, and it must be indented by one tab (which will autocomplete to 4 spaces, usually).  Finally, if we want the function to return something, we put a return statement (the word return followed by what we want to return).\n",
    "\n",
    "Functions can also take arguments.  These are options for the function.  Here is the same function, but with an argument for the length of the list:"
   ]
  },
  {
   "cell_type": "code",
   "execution_count": 22,
   "metadata": {},
   "outputs": [],
   "source": [
    "def make_list_with_arg(list_length=10):\n",
    "    another_list = []\n",
    "    for i in range(list_length):\n",
    "        another_list.append(i)\n",
    "    \n",
    "    return another_list "
   ]
  },
  {
   "cell_type": "code",
   "execution_count": 23,
   "metadata": {},
   "outputs": [
    {
     "data": {
      "text/plain": [
       "[0, 1, 2, 3, 4, 5, 6, 7, 8, 9, 10, 11, 12, 13, 14, 15, 16, 17, 18, 19]"
      ]
     },
     "execution_count": 23,
     "metadata": {},
     "output_type": "execute_result"
    }
   ],
   "source": [
    "make_list_with_arg(list_length=20)"
   ]
  },
  {
   "cell_type": "markdown",
   "metadata": {},
   "source": [
    "The list_length is our only argument.  We gave it a default of 10, but we don't have to give it a default.  If it has a default, we don't need to actually supply that argument for the function to work:"
   ]
  },
  {
   "cell_type": "code",
   "execution_count": 24,
   "metadata": {},
   "outputs": [
    {
     "data": {
      "text/plain": [
       "[0, 1, 2, 3, 4, 5, 6, 7, 8, 9]"
      ]
     },
     "execution_count": 24,
     "metadata": {},
     "output_type": "execute_result"
    }
   ],
   "source": [
    "make_list_with_arg()"
   ]
  },
  {
   "cell_type": "markdown",
   "metadata": {},
   "source": [
    "# Booleans\n",
    "We can control logic in Python with booleans.  We have True and False values which we can use.  The keyword 'not' negates a boolean.  We can also use comparisons, like == (equals) and != (not equals)."
   ]
  },
  {
   "cell_type": "code",
   "execution_count": 15,
   "metadata": {},
   "outputs": [
    {
     "name": "stdout",
     "output_type": "stream",
     "text": [
      "its true\n"
     ]
    }
   ],
   "source": [
    "if True:\n",
    "    print('its true')"
   ]
  },
  {
   "cell_type": "code",
   "execution_count": 16,
   "metadata": {},
   "outputs": [
    {
     "name": "stdout",
     "output_type": "stream",
     "text": [
      "not false\n"
     ]
    }
   ],
   "source": [
    "if not False:\n",
    "    print('not false')"
   ]
  }
 ],
 "metadata": {
  "kernelspec": {
   "display_name": "Python 3",
   "language": "python",
   "name": "python3"
  },
  "language_info": {
   "codemirror_mode": {
    "name": "ipython",
    "version": 3
   },
   "file_extension": ".py",
   "mimetype": "text/x-python",
   "name": "python",
   "nbconvert_exporter": "python",
   "pygments_lexer": "ipython3",
   "version": "3.7.3"
  }
 },
 "nbformat": 4,
 "nbformat_minor": 2
}
