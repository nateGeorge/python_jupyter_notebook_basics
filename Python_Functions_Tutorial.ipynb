{
 "cells": [
  {
   "cell_type": "markdown",
   "metadata": {},
   "source": [
    "# Python Functions Tutorial\n",
    "\n",
    "Functions are important in all programming languages.  They allow us to write code to do something, and then do that something just by calling the function.  Here is an example that prints out a message:"
   ]
  },
  {
   "cell_type": "code",
   "execution_count": 1,
   "metadata": {},
   "outputs": [],
   "source": [
    "def print_message():\n",
    "    print('this is a function that prints out a long message')\n",
    "    print('kind of silly, but maybe you are getting the point?')"
   ]
  },
  {
   "cell_type": "markdown",
   "metadata": {},
   "source": [
    "To 'call' the function, we just type the function name with parenthesis:"
   ]
  },
  {
   "cell_type": "code",
   "execution_count": 2,
   "metadata": {},
   "outputs": [
    {
     "name": "stdout",
     "output_type": "stream",
     "text": [
      "this is a function that prints out a long message\n",
      "kind of silly, but maybe you are getting the point?\n"
     ]
    }
   ],
   "source": [
    "print_message()"
   ]
  },
  {
   "cell_type": "markdown",
   "metadata": {},
   "source": [
    "All functions in Python start with 'def', then a space, then the name of the function, then parenthises, then a colon.  The code for the function comes indented below, just like we saw with the simple example:"
   ]
  },
  {
   "cell_type": "code",
   "execution_count": 3,
   "metadata": {},
   "outputs": [],
   "source": [
    "def print_message():\n",
    "    print('this is a function that prints out a long message')\n",
    "    print('kind of silly, but maybe you are getting the point?')"
   ]
  },
  {
   "cell_type": "markdown",
   "metadata": {},
   "source": [
    "# Functions are arbitrary\n",
    "Functions can take any input, and have any output.  Their inputs and outputs are completely arbitrary.  We could have an image, numbers, a list, a string, etc as an input.  Any of the same datatypes could be outputs as well; it's completely flexible.\n",
    "\n",
    "The way we get an output from a function is with a 'return' statement.  The way we supply inputs is with 'arguments', which are words in the parentheses of a function.\n",
    "\n",
    "Here is a function that takes two numbers and outputs another number (after adding 12).  Notice the 'return' statement, which is the word return, followed by what we want the function to give back to us.  The argument is one number, which we are calling `a_number`.  We can supply the argument `a_number` either by position or by keyword argument.  'Keyword' means we are giving the argument like `a_number=30`.  Position means we are matching the argument to its position in the list of arguments.  "
   ]
  },
  {
   "cell_type": "code",
   "execution_count": 4,
   "metadata": {},
   "outputs": [],
   "source": [
    "def add_twelve(a_number, second_number):\n",
    "    return a_number + second_number + 12"
   ]
  },
  {
   "cell_type": "code",
   "execution_count": 5,
   "metadata": {},
   "outputs": [
    {
     "data": {
      "text/plain": [
       "42"
      ]
     },
     "execution_count": 5,
     "metadata": {},
     "output_type": "execute_result"
    }
   ],
   "source": [
    "# specify the arguments positionally\n",
    "add_twelve(20, 10)"
   ]
  },
  {
   "cell_type": "code",
   "execution_count": 6,
   "metadata": {},
   "outputs": [
    {
     "data": {
      "text/plain": [
       "52"
      ]
     },
     "execution_count": 6,
     "metadata": {},
     "output_type": "execute_result"
    }
   ],
   "source": [
    "# supply as a keyword argument\n",
    "add_twelve(a_number=30, second_number=10)"
   ]
  },
  {
   "cell_type": "code",
   "execution_count": 7,
   "metadata": {},
   "outputs": [
    {
     "data": {
      "text/plain": [
       "52"
      ]
     },
     "execution_count": 7,
     "metadata": {},
     "output_type": "execute_result"
    }
   ],
   "source": [
    "# mix keyword and positional arguments -- positional arguments always have to come first\n",
    "add_twelve(30, second_number=10)"
   ]
  },
  {
   "cell_type": "markdown",
   "metadata": {},
   "source": [
    "# Default Values for arguments\n",
    "In functions, we often want default values for arguments.  This means we will have arguments specified like `a_number=30` in our argument list.  Here is an example of using default values for arguments in a function.  The arguments with default values must come last in the list of arguments."
   ]
  },
  {
   "cell_type": "code",
   "execution_count": 8,
   "metadata": {},
   "outputs": [],
   "source": [
    "def add_twelve(a_number=30, second_number=10):\n",
    "    return a_number + second_number + 12"
   ]
  },
  {
   "cell_type": "code",
   "execution_count": 9,
   "metadata": {},
   "outputs": [
    {
     "data": {
      "text/plain": [
       "52"
      ]
     },
     "execution_count": 9,
     "metadata": {},
     "output_type": "execute_result"
    }
   ],
   "source": [
    "# With the default values, we don't have to supply values for those arguments.\n",
    "add_twelve()"
   ]
  },
  {
   "cell_type": "code",
   "execution_count": 10,
   "metadata": {},
   "outputs": [
    {
     "ename": "SyntaxError",
     "evalue": "non-default argument follows default argument (<ipython-input-10-a79f4a18dd4c>, line 3)",
     "output_type": "error",
     "traceback": [
      "\u001b[0;36m  File \u001b[0;32m\"<ipython-input-10-a79f4a18dd4c>\"\u001b[0;36m, line \u001b[0;32m3\u001b[0m\n\u001b[0;31m    def add_twelve(a_number=30, second_number):\u001b[0m\n\u001b[0m                  ^\u001b[0m\n\u001b[0;31mSyntaxError\u001b[0m\u001b[0;31m:\u001b[0m non-default argument follows default argument\n"
     ]
    }
   ],
   "source": [
    "# We can't do it this way.  The error message should be pretty self-explanatory,\n",
    "# it's saying we must have our default arguments come last.\n",
    "def add_twelve(a_number=30, second_number):\n",
    "    return a_number + second_number + 12"
   ]
  },
  {
   "cell_type": "code",
   "execution_count": 11,
   "metadata": {},
   "outputs": [],
   "source": [
    "def add_twelve(a_number, second_number=10):\n",
    "    return a_number + second_number + 12"
   ]
  },
  {
   "cell_type": "code",
   "execution_count": 12,
   "metadata": {},
   "outputs": [
    {
     "data": {
      "text/plain": [
       "52"
      ]
     },
     "execution_count": 12,
     "metadata": {},
     "output_type": "execute_result"
    }
   ],
   "source": [
    "add_twelve(a_number=30)"
   ]
  },
  {
   "cell_type": "code",
   "execution_count": 13,
   "metadata": {},
   "outputs": [
    {
     "data": {
      "text/plain": [
       "54"
      ]
     },
     "execution_count": 13,
     "metadata": {},
     "output_type": "execute_result"
    }
   ],
   "source": [
    "# We can still provide an argument to supercede the default values\n",
    "add_twelve(a_number=30, second_number=12)"
   ]
  },
  {
   "cell_type": "code",
   "execution_count": 14,
   "metadata": {},
   "outputs": [
    {
     "data": {
      "text/plain": [
       "54"
      ]
     },
     "execution_count": 14,
     "metadata": {},
     "output_type": "execute_result"
    }
   ],
   "source": [
    "# we can also supply the arguments positionally, of course\n",
    "add_twelve(30, 12)"
   ]
  },
  {
   "cell_type": "markdown",
   "metadata": {},
   "source": [
    "# List of strings as inputs\n",
    "In the assignment, we want to take a list of strings as input.  This might look like this:\n",
    "\n",
    "['heres the first doc', 'heres the second', 'and a third document']\n",
    "\n",
    "The 'documents' would be separate documents, like separate news stories.\n",
    "\n",
    "First let's print out the documents with a for loop:"
   ]
  },
  {
   "cell_type": "code",
   "execution_count": 15,
   "metadata": {},
   "outputs": [],
   "source": [
    "def print_docs(docs):\n",
    "    for d in docs:\n",
    "        print(d)"
   ]
  },
  {
   "cell_type": "code",
   "execution_count": 16,
   "metadata": {},
   "outputs": [
    {
     "name": "stdout",
     "output_type": "stream",
     "text": [
      "heres the first doc\n",
      "heres the second\n",
      "and a third document\n"
     ]
    }
   ],
   "source": [
    "print_docs(['heres the first doc', 'heres the second', 'and a third document'])"
   ]
  },
  {
   "cell_type": "markdown",
   "metadata": {},
   "source": [
    "# Boolean arguments\n",
    "In the assignment, we want boolean arguments for our function.  A boolean is a variable type that can be `True` or `False`.  Here is an example of using a boolean argument for lowercasing.  I've given it the default value of 'True'."
   ]
  },
  {
   "cell_type": "code",
   "execution_count": 17,
   "metadata": {},
   "outputs": [],
   "source": [
    "def clean_text(docs, lower=True):\n",
    "    for d in docs:\n",
    "        if lower:\n",
    "            print(d.lower())\n",
    "        else:\n",
    "            print(d)"
   ]
  },
  {
   "cell_type": "code",
   "execution_count": 18,
   "metadata": {},
   "outputs": [
    {
     "name": "stdout",
     "output_type": "stream",
     "text": [
      "heres the first doc\n",
      "heres the second\n",
      "and a third document\n"
     ]
    }
   ],
   "source": [
    "document_list = ['Heres the First Doc', 'Heres the second', 'and a third document']\n",
    "clean_text(docs=document_list)"
   ]
  },
  {
   "cell_type": "code",
   "execution_count": 19,
   "metadata": {},
   "outputs": [
    {
     "name": "stdout",
     "output_type": "stream",
     "text": [
      "Heres the First Doc\n",
      "Heres the second\n",
      "and a third document\n"
     ]
    }
   ],
   "source": [
    "document_list = ['Heres the First Doc', 'Heres the second', 'and a third document']\n",
    "clean_text(docs=document_list, lower=False)"
   ]
  },
  {
   "cell_type": "markdown",
   "metadata": {},
   "source": [
    "Now you know how to lowercase documents!  Let's take the list of documents as an input, and return the converted list as an output -- this is the first part of the assignment."
   ]
  },
  {
   "cell_type": "code",
   "execution_count": 20,
   "metadata": {},
   "outputs": [],
   "source": [
    "def clean_text(docs, lower=True):\n",
    "    clean_docs = []\n",
    "    for d in docs:\n",
    "        if lower:\n",
    "            clean_docs.append(d.lower())\n",
    "    \n",
    "    if lower:\n",
    "        # overwrite our 'docs' variable\n",
    "        docs = clean_docs\n",
    "        \n",
    "    return docs"
   ]
  },
  {
   "cell_type": "code",
   "execution_count": 21,
   "metadata": {},
   "outputs": [],
   "source": [
    "document_list = ['Heres the First Doc', 'Heres the second', 'and a third document']\n",
    "clean_documents = clean_text(docs=document_list)"
   ]
  },
  {
   "cell_type": "code",
   "execution_count": 22,
   "metadata": {},
   "outputs": [
    {
     "data": {
      "text/plain": [
       "['heres the first doc', 'heres the second', 'and a third document']"
      ]
     },
     "execution_count": 22,
     "metadata": {},
     "output_type": "execute_result"
    }
   ],
   "source": [
    "clean_documents"
   ]
  },
  {
   "cell_type": "markdown",
   "metadata": {},
   "source": [
    "# Error catching\n",
    "Sometimes it's nice to check if a variable is the 'type' we are expecting so the function will work.  We can check at the beginning of the function if a variable is the type we expect.  Here is an example of checking if a variable is a list of strings:"
   ]
  },
  {
   "cell_type": "code",
   "execution_count": 23,
   "metadata": {},
   "outputs": [
    {
     "data": {
      "text/plain": [
       "list"
      ]
     },
     "execution_count": 23,
     "metadata": {},
     "output_type": "execute_result"
    }
   ],
   "source": [
    "type(document_list)"
   ]
  },
  {
   "cell_type": "code",
   "execution_count": 24,
   "metadata": {},
   "outputs": [
    {
     "data": {
      "text/plain": [
       "True"
      ]
     },
     "execution_count": 24,
     "metadata": {},
     "output_type": "execute_result"
    }
   ],
   "source": [
    "# check if it's a list like this\n",
    "type(document_list) is list"
   ]
  },
  {
   "cell_type": "code",
   "execution_count": 25,
   "metadata": {},
   "outputs": [
    {
     "data": {
      "text/plain": [
       "str"
      ]
     },
     "execution_count": 25,
     "metadata": {},
     "output_type": "execute_result"
    }
   ],
   "source": [
    "type(document_list[0])"
   ]
  },
  {
   "cell_type": "code",
   "execution_count": 26,
   "metadata": {},
   "outputs": [
    {
     "data": {
      "text/plain": [
       "True"
      ]
     },
     "execution_count": 26,
     "metadata": {},
     "output_type": "execute_result"
    }
   ],
   "source": [
    "type(document_list[0]) is str"
   ]
  },
  {
   "cell_type": "code",
   "execution_count": 27,
   "metadata": {},
   "outputs": [],
   "source": [
    "def clean_text(docs, lower=True):\n",
    "    if type(docs) is not list:\n",
    "        print('the docs argument should be a list')\n",
    "        return None\n",
    "    for d in docs:\n",
    "        if type(d) is not str:\n",
    "            print('each document must be a string')\n",
    "            return None\n",
    "    \n",
    "    clean_docs = []\n",
    "    for d in docs:\n",
    "        if lower:\n",
    "            clean_docs.append(d.lower())\n",
    "    \n",
    "    if lower:\n",
    "        # overwrite our 'docs' variable\n",
    "        docs = clean_docs\n",
    "        \n",
    "    return docs"
   ]
  },
  {
   "cell_type": "markdown",
   "metadata": {},
   "source": [
    "# How we just checked for the wrong data type\n",
    "If the 'docs' variable is not a list, we print out a message and return nothing (`None`).  None in Python is the same as NULL in R.  It is the built-in version of nothing.  So when we return it, we get `None` back.  This means if we assign the result to a variable, that variable will be `None`:"
   ]
  },
  {
   "cell_type": "code",
   "execution_count": 28,
   "metadata": {},
   "outputs": [
    {
     "name": "stdout",
     "output_type": "stream",
     "text": [
      "the docs argument should be a list\n"
     ]
    }
   ],
   "source": [
    "clean_docs = clean_text(docs=2)"
   ]
  },
  {
   "cell_type": "code",
   "execution_count": 29,
   "metadata": {},
   "outputs": [],
   "source": [
    "clean_docs"
   ]
  },
  {
   "cell_type": "code",
   "execution_count": 30,
   "metadata": {},
   "outputs": [
    {
     "data": {
      "text/plain": [
       "True"
      ]
     },
     "execution_count": 30,
     "metadata": {},
     "output_type": "execute_result"
    }
   ],
   "source": [
    "clean_docs is None"
   ]
  }
 ],
 "metadata": {
  "kernelspec": {
   "display_name": "Python 3",
   "language": "python",
   "name": "python3"
  },
  "language_info": {
   "codemirror_mode": {
    "name": "ipython",
    "version": 3
   },
   "file_extension": ".py",
   "mimetype": "text/x-python",
   "name": "python",
   "nbconvert_exporter": "python",
   "pygments_lexer": "ipython3",
   "version": "3.7.3"
  }
 },
 "nbformat": 4,
 "nbformat_minor": 2
}
